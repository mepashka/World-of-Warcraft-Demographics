{
 "cells": [
  {
   "cell_type": "markdown",
   "id": "2816efb7",
   "metadata": {
    "toc": true
   },
   "source": [
    "<h1>Table of Contents<span class=\"tocSkip\"></span></h1>\n",
    "<div class=\"toc\"><ul class=\"toc-item\"><li><ul class=\"toc-item\"><li><span><a href=\"#Контекст\" data-toc-modified-id=\"Контекст-0.1\"><span class=\"toc-item-num\">0.1&nbsp;&nbsp;</span>Контекст</a></span></li><li><span><a href=\"#Декомпозиция-проекта-по-анализу-данных-World-of-Warcraft\" data-toc-modified-id=\"Декомпозиция-проекта-по-анализу-данных-World-of-Warcraft-0.2\"><span class=\"toc-item-num\">0.2&nbsp;&nbsp;</span>Декомпозиция проекта по анализу данных World of Warcraft</a></span></li></ul></li><li><span><a href=\"#Знакомство-с-данными-и-постановка-задачи\" data-toc-modified-id=\"Знакомство-с-данными-и-постановка-задачи-1\"><span class=\"toc-item-num\">1&nbsp;&nbsp;</span>Знакомство с данными и постановка задачи</a></span><ul class=\"toc-item\"><li><span><a href=\"#Описание-данных\" data-toc-modified-id=\"Описание-данных-1.1\"><span class=\"toc-item-num\">1.1&nbsp;&nbsp;</span>Описание данных</a></span></li><li><span><a href=\"#Структура-данных:\" data-toc-modified-id=\"Структура-данных:-1.2\"><span class=\"toc-item-num\">1.2&nbsp;&nbsp;</span>Структура данных:</a></span></li><li><span><a href=\"#Цели-и-задачи-анализа\" data-toc-modified-id=\"Цели-и-задачи-анализа-1.3\"><span class=\"toc-item-num\">1.3&nbsp;&nbsp;</span>Цели и задачи анализа</a></span></li></ul></li><li><span><a href=\"#Подготовка-данных\" data-toc-modified-id=\"Подготовка-данных-2\"><span class=\"toc-item-num\">2&nbsp;&nbsp;</span>Подготовка данных</a></span><ul class=\"toc-item\"><li><span><a href=\"#Подключение-библиотек-и-модулей\" data-toc-modified-id=\"Подключение-библиотек-и-модулей-2.1\"><span class=\"toc-item-num\">2.1&nbsp;&nbsp;</span>Подключение библиотек и модулей</a></span></li><li><span><a href=\"#Загрузка-данных\" data-toc-modified-id=\"Загрузка-данных-2.2\"><span class=\"toc-item-num\">2.2&nbsp;&nbsp;</span>Загрузка данных</a></span></li><li><span><a href=\"#Очистка-данных\" data-toc-modified-id=\"Очистка-данных-2.3\"><span class=\"toc-item-num\">2.3&nbsp;&nbsp;</span>Очистка данных</a></span></li><li><span><a href=\"#Обработка-пропущенных-значений\" data-toc-modified-id=\"Обработка-пропущенных-значений-2.4\"><span class=\"toc-item-num\">2.4&nbsp;&nbsp;</span>Обработка пропущенных значений</a></span></li></ul></li><li><span><a href=\"#Преобразование-значений\" data-toc-modified-id=\"Преобразование-значений-3\"><span class=\"toc-item-num\">3&nbsp;&nbsp;</span>Преобразование значений</a></span></li><li><span><a href=\"#Исследовательский-анализ-данных-(EDA)\" data-toc-modified-id=\"Исследовательский-анализ-данных-(EDA)-4\"><span class=\"toc-item-num\">4&nbsp;&nbsp;</span>Исследовательский анализ данных (EDA)</a></span><ul class=\"toc-item\"><li><span><a href=\"#Создание-сводных-статистик-для-числовых-переменных:\" data-toc-modified-id=\"Создание-сводных-статистик-для-числовых-переменных:-4.1\"><span class=\"toc-item-num\">4.1&nbsp;&nbsp;</span>Создание сводных статистик для числовых переменных:</a></span><ul class=\"toc-item\"><li><span><a href=\"#Вывод\" data-toc-modified-id=\"Вывод-4.1.1\"><span class=\"toc-item-num\">4.1.1&nbsp;&nbsp;</span>Вывод</a></span></li></ul></li><li><span><a href=\"#Анализ-распределения-значений-категориальных-переменных:\" data-toc-modified-id=\"Анализ-распределения-значений-категориальных-переменных:-4.2\"><span class=\"toc-item-num\">4.2&nbsp;&nbsp;</span>Анализ распределения значений категориальных переменных:</a></span><ul class=\"toc-item\"><li><span><a href=\"#Вывод\" data-toc-modified-id=\"Вывод-4.2.1\"><span class=\"toc-item-num\">4.2.1&nbsp;&nbsp;</span>Вывод</a></span></li></ul></li><li><span><a href=\"#Построение-графиков-для-визуализации-распределений-и-связей-между-переменными:\" data-toc-modified-id=\"Построение-графиков-для-визуализации-распределений-и-связей-между-переменными:-4.3\"><span class=\"toc-item-num\">4.3&nbsp;&nbsp;</span>Построение графиков для визуализации распределений и связей между переменными:</a></span><ul class=\"toc-item\"><li><span><a href=\"#Вывод\" data-toc-modified-id=\"Вывод-4.3.1\"><span class=\"toc-item-num\">4.3.1&nbsp;&nbsp;</span>Вывод</a></span></li></ul></li><li><span><a href=\"#Столбчатая-диаграмма-для-анализа-распределения-по-половому-признаку:\" data-toc-modified-id=\"Столбчатая-диаграмма-для-анализа-распределения-по-половому-признаку:-4.4\"><span class=\"toc-item-num\">4.4&nbsp;&nbsp;</span>Столбчатая диаграмма для анализа распределения по половому признаку:</a></span><ul class=\"toc-item\"><li><span><a href=\"#Вывод\" data-toc-modified-id=\"Вывод-4.4.1\"><span class=\"toc-item-num\">4.4.1&nbsp;&nbsp;</span>Вывод</a></span></li></ul></li><li><span><a href=\"#Сводная--таблица-и-тепловая-карта-для-анализа-распределения-ролей-и-рас-по-полу:\" data-toc-modified-id=\"Сводная--таблица-и-тепловая-карта-для-анализа-распределения-ролей-и-рас-по-полу:-4.5\"><span class=\"toc-item-num\">4.5&nbsp;&nbsp;</span>Сводная  таблица и тепловая карта для анализа распределения ролей и рас по полу:</a></span><ul class=\"toc-item\"><li><span><a href=\"#Вывод\" data-toc-modified-id=\"Вывод-4.5.1\"><span class=\"toc-item-num\">4.5.1&nbsp;&nbsp;</span>Вывод</a></span></li></ul></li><li><span><a href=\"#Распределение-возраста-в-зависимости-от-пола:\" data-toc-modified-id=\"Распределение-возраста-в-зависимости-от-пола:-4.6\"><span class=\"toc-item-num\">4.6&nbsp;&nbsp;</span>Распределение возраста в зависимости от пола:</a></span><ul class=\"toc-item\"><li><span><a href=\"#Вывод\" data-toc-modified-id=\"Вывод-4.6.1\"><span class=\"toc-item-num\">4.6.1&nbsp;&nbsp;</span>Вывод</a></span></li></ul></li><li><span><a href=\"#Взаимосвязь-между-сексуальностью-и-полом-персонажа,-которого-игроки-мейнят:\" data-toc-modified-id=\"Взаимосвязь-между-сексуальностью-и-полом-персонажа,-которого-игроки-мейнят:-4.7\"><span class=\"toc-item-num\">4.7&nbsp;&nbsp;</span>Взаимосвязь между сексуальностью и полом персонажа, которого игроки мейнят:</a></span><ul class=\"toc-item\"><li><span><a href=\"#Вывод\" data-toc-modified-id=\"Вывод-4.7.1\"><span class=\"toc-item-num\">4.7.1&nbsp;&nbsp;</span>Вывод</a></span></li></ul></li></ul></li></ul></div>"
   ]
  },
  {
   "cell_type": "markdown",
   "id": "b5e5e394",
   "metadata": {},
   "source": [
    "# World of Warcraft Demographics"
   ]
  },
  {
   "cell_type": "markdown",
   "id": "12a287ce",
   "metadata": {},
   "source": [
    "### Контекст\n",
    "В этом наборе данных рассматриваются демографические данные игроков World of Warcraft – пол, возраст, сексуальность и т.д. – и то, как они играют в игре – роль, раса, класс, – чтобы увидеть, есть ли связь между кем-либо из них. В частности, нас интересует, как гендер и сексуальность влияют на пол персонажа, которого они играют, но есть много других вещей, на которые стоит обратить внимание. Эти данные были собраны с помощью опроса Google Forms, который затем был размещен на Reddit, Tumblr, Twitter и сервере Discord гильдии автора набора данных в WoW."
   ]
  },
  {
   "cell_type": "markdown",
   "id": "a7c05640",
   "metadata": {},
   "source": [
    "### Декомпозиция проекта по анализу данных World of Warcraft\n",
    "1. Знакомство с данными и постановка задачи\n",
    "    * Ознакомление с данными, понимание структуры и содержания каждого столбца.\n",
    "    * Определение целей и задач анализа: выявить связи между демографическими характеристиками игроков и их игровыми предпочтениями (роль, раса, класс и др.).\n",
    "2. Подготовка данных\n",
    "    * Загрузка данных из источника (например, CSV файла).\n",
    "    * Очистка данных от лишних столбцов (например, Timestamp).\n",
    "    * Обработка пропущенных значений (если есть).\n",
    "    * Преобразование значений в удобные для анализа форматы (например, категориальные переменные).\n",
    "3. Исследовательский анализ данных (EDA)\n",
    "    * Создание сводных статистик для числовых переменных (возраст, количество максимальных уровней и др.).\n",
    "    * Анализ распределения значений категориальных переменных (пол, сексуальность, страна, роль, раса, класс и др.).\n",
    "    * Построение графиков для визуализации распределений и связей между переменными.\n",
    "4. Анализ связей между демографическими характеристиками и игровыми предпочтениями\n",
    "    * 4.1. Влияние гендера и сексуальности на пол персонажа\n",
    "        * Построение кросс-таблицы для анализа взаимосвязи гендера, сексуальности и пола персонажа.\n",
    "        * Построение столбчатых графиков для визуализации связи.\n",
    "    * 4.2. Анализ связи между ролью игрока и игровыми характеристиками\n",
    "        * Построение кросс-таблицы для анализа взаимосвязи роли игрока, расы, класса персонажа.\n",
    "        * Визуализация результатов с использованием графиков (столбчатых, круговых и др.).\n",
    "5. Обобщение результатов и выводы\n",
    "    * Сводка основных результатов анализа, выявленных зависимостей и закономерностей.\n",
    "    * Формулирование выводов по каждой задаче анализа.\n",
    "    * Формулирование общих выводов по влиянию демографических характеристик на игровые предпочтения.\n",
    "    * Дополнительные наблюдения, гипотезы и рекомендации.\n",
    "6. Визуализация результатов\n",
    "    * Создание информативных графиков и диаграмм для визуализации ключевых результатов анализа.\n",
    "    * Интерактивные визуализации для демонстрации связей и зависимостей.\n",
    "7. Документирование процесса\n",
    "    * Создание Markdown-файла с описанием каждого этапа проекта, используемых методов, результатов и выводов.\n",
    "    * Вставка в Markdown-файл кода Python для выполнения анализа данных.\n",
    "8. Презентация результатов\n",
    "    * Создание презентации или отчета, подробно описывающего ключевые аспекты анализа и его результаты.\n",
    "    * Подготовка краткого обзора для обсуждения результатов с коллегами или интересующимися лицами."
   ]
  },
  {
   "cell_type": "markdown",
   "id": "d09f7147",
   "metadata": {},
   "source": [
    "## Знакомство с данными и постановка задачи"
   ]
  },
  {
   "cell_type": "markdown",
   "id": "d234b23e",
   "metadata": {},
   "source": [
    "### Описание данных\n",
    "Данные представляют собой результаты опроса игроков World of Warcraft, собранные с помощью Google Forms и распространенные на Reddit, Tumblr, Twitter и сервере Discord гильдии WoW. Датасет содержит информацию о демографических характеристиках игроков и их игровых предпочтениях.\n",
    "\n",
    "### Структура данных:\n",
    "\n",
    "* Timestamp: Временная метка завершения опроса (неинформативная).\n",
    "* Gender: Пол игрока.\n",
    "* Sexuality: Сексуальная ориентация игрока.\n",
    "* Age: Возраст игрока.\n",
    "* Country: Страна, в которой игрок живет.\n",
    "* Main: Пол персонажа, за которого игрок играет в основном.\n",
    "* Faction: Фракция, за которую игрок играет.\n",
    "* Server: Сервер(ы), на котором игрок играет в основном.\n",
    "* Role: Роль(и), которые игрок играет (DPS, Лекарь, Танк или их комбинации).\n",
    "* Class: Класс(ы) персонажа, которых игрок играет.\n",
    "* Race: Раса(ы) персонажа, которых игрок играет.\n",
    "* Max: Количество персонажей на максимальном уровне (110).\n",
    "* Attracted: Пол, к которому игрок испытывает привлечение.\n",
    "* Type: \"Тип\" игрока, сочетающий гендер и сексуальность (например, \"гей-женщина\", \"би-мужчина\" и т.д.).\n",
    "\n",
    "### Цели и задачи анализа\n",
    "Основной целью анализа данных является выявление связей между демографическими характеристиками игроков и их игровыми предпочтениями в World of Warcraft. Конкретные задачи анализа включают:\n",
    "\n",
    "- Исследование влияния гендера и сексуальности на выбор пола персонажа.\n",
    "- Анализ взаимосвязи между ролью игрока и предпочтениями по расе и классу персонажа.\n",
    "- Исследование зависимостей между фракцией и другими характеристиками игроков.\n",
    "- Выявление распределения игроков по странам и анализ возможных зависимостей от страны проживания.\n",
    "- Анализ влияния возраста на выбор роли, класса, фракции и других игровых параметров.\n",
    "- Выявление наиболее популярных сочетаний классов и рас среди игроков.\n",
    "- Определение связей между привлекательностью к определенному полу и игровыми предпочтениями.\n",
    "\n",
    "**Целью анализа** является выявление интересных закономерностей, корреляций и зависимостей в данных, которые могут помочь лучше понять предпочтения и характеристики игроков World of Warcraft."
   ]
  },
  {
   "cell_type": "markdown",
   "id": "705eaf59",
   "metadata": {},
   "source": [
    "## Подготовка данных"
   ]
  },
  {
   "cell_type": "markdown",
   "id": "a04a271a",
   "metadata": {},
   "source": [
    "### Подключение библиотек и модулей"
   ]
  },
  {
   "cell_type": "code",
   "execution_count": 1,
   "id": "ac21995e",
   "metadata": {},
   "outputs": [],
   "source": [
    "import pandas as pd\n",
    "import seaborn as sns\n",
    "import matplotlib.pyplot as plt"
   ]
  },
  {
   "cell_type": "markdown",
   "id": "3904e647",
   "metadata": {},
   "source": [
    "### Загрузка данных"
   ]
  },
  {
   "cell_type": "code",
   "execution_count": 2,
   "id": "73b9c590",
   "metadata": {},
   "outputs": [],
   "source": [
    "data = pd.read_csv('WoW Demographics.csv')"
   ]
  },
  {
   "cell_type": "code",
   "execution_count": 3,
   "id": "a7488bdf",
   "metadata": {},
   "outputs": [
    {
     "data": {
      "text/plain": [
       "(100, 14)"
      ]
     },
     "execution_count": 3,
     "metadata": {},
     "output_type": "execute_result"
    }
   ],
   "source": [
    "data.shape"
   ]
  },
  {
   "cell_type": "code",
   "execution_count": 4,
   "id": "453b69f9",
   "metadata": {},
   "outputs": [
    {
     "name": "stdout",
     "output_type": "stream",
     "text": [
      "<class 'pandas.core.frame.DataFrame'>\n",
      "RangeIndex: 100 entries, 0 to 99\n",
      "Data columns (total 14 columns):\n",
      " #   Column     Non-Null Count  Dtype \n",
      "---  ------     --------------  ----- \n",
      " 0   Timestamp  100 non-null    object\n",
      " 1   Gender     100 non-null    object\n",
      " 2   Sexuality  100 non-null    object\n",
      " 3   Age        100 non-null    object\n",
      " 4   Country    95 non-null     object\n",
      " 5   Main       100 non-null    object\n",
      " 6   Faction    100 non-null    object\n",
      " 7   Server     99 non-null     object\n",
      " 8   Role       100 non-null    object\n",
      " 9   Class      100 non-null    object\n",
      " 10  Race       100 non-null    object\n",
      " 11  Max        100 non-null    int64 \n",
      " 12  Attracted  94 non-null     object\n",
      " 13  Type       100 non-null    object\n",
      "dtypes: int64(1), object(13)\n",
      "memory usage: 11.1+ KB\n"
     ]
    }
   ],
   "source": [
    "data.info()"
   ]
  },
  {
   "cell_type": "code",
   "execution_count": 5,
   "id": "c6f6b12b",
   "metadata": {},
   "outputs": [
    {
     "data": {
      "text/html": [
       "<div>\n",
       "<style scoped>\n",
       "    .dataframe tbody tr th:only-of-type {\n",
       "        vertical-align: middle;\n",
       "    }\n",
       "\n",
       "    .dataframe tbody tr th {\n",
       "        vertical-align: top;\n",
       "    }\n",
       "\n",
       "    .dataframe thead th {\n",
       "        text-align: right;\n",
       "    }\n",
       "</style>\n",
       "<table border=\"1\" class=\"dataframe\">\n",
       "  <thead>\n",
       "    <tr style=\"text-align: right;\">\n",
       "      <th></th>\n",
       "      <th>Timestamp</th>\n",
       "      <th>Gender</th>\n",
       "      <th>Sexuality</th>\n",
       "      <th>Age</th>\n",
       "      <th>Country</th>\n",
       "      <th>Main</th>\n",
       "      <th>Faction</th>\n",
       "      <th>Server</th>\n",
       "      <th>Role</th>\n",
       "      <th>Class</th>\n",
       "      <th>Race</th>\n",
       "      <th>Max</th>\n",
       "      <th>Attracted</th>\n",
       "      <th>Type</th>\n",
       "    </tr>\n",
       "  </thead>\n",
       "  <tbody>\n",
       "    <tr>\n",
       "      <th>0</th>\n",
       "      <td>2017/07/24 10:19:56 PM AST</td>\n",
       "      <td>Female</td>\n",
       "      <td>Bi/Pan</td>\n",
       "      <td>18 to 30</td>\n",
       "      <td>USA</td>\n",
       "      <td>Female</td>\n",
       "      <td>Alliance</td>\n",
       "      <td>PvE</td>\n",
       "      <td>DPS</td>\n",
       "      <td>Hunter</td>\n",
       "      <td>Draenei</td>\n",
       "      <td>2</td>\n",
       "      <td>Both</td>\n",
       "      <td>Bi female</td>\n",
       "    </tr>\n",
       "    <tr>\n",
       "      <th>1</th>\n",
       "      <td>2017/07/24 10:25:34 PM AST</td>\n",
       "      <td>Other</td>\n",
       "      <td>Gay</td>\n",
       "      <td>18 to 30</td>\n",
       "      <td>Indonesia</td>\n",
       "      <td>Female</td>\n",
       "      <td>Horde</td>\n",
       "      <td>RP</td>\n",
       "      <td>Healer</td>\n",
       "      <td>Druid</td>\n",
       "      <td>Troll</td>\n",
       "      <td>2</td>\n",
       "      <td>NaN</td>\n",
       "      <td>Gay other</td>\n",
       "    </tr>\n",
       "    <tr>\n",
       "      <th>2</th>\n",
       "      <td>2017/07/24 10:27:56 PM AST</td>\n",
       "      <td>Female</td>\n",
       "      <td>Bi/Pan</td>\n",
       "      <td>18 to 30</td>\n",
       "      <td>USA</td>\n",
       "      <td>Female</td>\n",
       "      <td>Horde</td>\n",
       "      <td>PvE</td>\n",
       "      <td>DPS</td>\n",
       "      <td>Druid</td>\n",
       "      <td>Troll</td>\n",
       "      <td>2</td>\n",
       "      <td>Both</td>\n",
       "      <td>Bi female</td>\n",
       "    </tr>\n",
       "    <tr>\n",
       "      <th>3</th>\n",
       "      <td>2017/07/24 10:46:20 PM AST</td>\n",
       "      <td>Male</td>\n",
       "      <td>Gay</td>\n",
       "      <td>18 to 30</td>\n",
       "      <td>England</td>\n",
       "      <td>Female</td>\n",
       "      <td>Alliance</td>\n",
       "      <td>PvE</td>\n",
       "      <td>Healer</td>\n",
       "      <td>Priest</td>\n",
       "      <td>Night Elf</td>\n",
       "      <td>2</td>\n",
       "      <td>Men</td>\n",
       "      <td>Gay man</td>\n",
       "    </tr>\n",
       "    <tr>\n",
       "      <th>4</th>\n",
       "      <td>2017/07/24 10:56:33 PM AST</td>\n",
       "      <td>Male</td>\n",
       "      <td>Straight</td>\n",
       "      <td>18 to 30</td>\n",
       "      <td>usa</td>\n",
       "      <td>Female</td>\n",
       "      <td>Alliance</td>\n",
       "      <td>PvE</td>\n",
       "      <td>Healer</td>\n",
       "      <td>Priest</td>\n",
       "      <td>Night Elf</td>\n",
       "      <td>4</td>\n",
       "      <td>Women</td>\n",
       "      <td>Straight man</td>\n",
       "    </tr>\n",
       "    <tr>\n",
       "      <th>5</th>\n",
       "      <td>2017/07/24 11:45:42 PM AST</td>\n",
       "      <td>Female</td>\n",
       "      <td>Bi/Pan</td>\n",
       "      <td>18 to 30</td>\n",
       "      <td>England</td>\n",
       "      <td>Both equally</td>\n",
       "      <td>Both equally</td>\n",
       "      <td>PvP</td>\n",
       "      <td>Healer</td>\n",
       "      <td>Hunter;Rogue</td>\n",
       "      <td>Dwarf;Night Elf;Draenei</td>\n",
       "      <td>6</td>\n",
       "      <td>Both</td>\n",
       "      <td>Bi female</td>\n",
       "    </tr>\n",
       "    <tr>\n",
       "      <th>6</th>\n",
       "      <td>2017/07/25 12:00:19 AM AST</td>\n",
       "      <td>Male</td>\n",
       "      <td>Straight</td>\n",
       "      <td>18 to 30</td>\n",
       "      <td>Russian Federation</td>\n",
       "      <td>Female</td>\n",
       "      <td>Alliance</td>\n",
       "      <td>PvE</td>\n",
       "      <td>DPS;Healer</td>\n",
       "      <td>Shaman</td>\n",
       "      <td>Draenei</td>\n",
       "      <td>3</td>\n",
       "      <td>Women</td>\n",
       "      <td>Straight man</td>\n",
       "    </tr>\n",
       "    <tr>\n",
       "      <th>7</th>\n",
       "      <td>2017/07/25 12:03:50 AM AST</td>\n",
       "      <td>Female</td>\n",
       "      <td>Bi/Pan</td>\n",
       "      <td>18 to 30</td>\n",
       "      <td>NaN</td>\n",
       "      <td>Female</td>\n",
       "      <td>Horde</td>\n",
       "      <td>PvE;PvP</td>\n",
       "      <td>DPS;Tank</td>\n",
       "      <td>Death Knight;Demon Hunter;Paladin</td>\n",
       "      <td>Blood Elf</td>\n",
       "      <td>6</td>\n",
       "      <td>Both</td>\n",
       "      <td>Bi female</td>\n",
       "    </tr>\n",
       "    <tr>\n",
       "      <th>8</th>\n",
       "      <td>2017/07/25 3:10:39 AM AST</td>\n",
       "      <td>Other</td>\n",
       "      <td>Bi/Pan</td>\n",
       "      <td>18 to 30</td>\n",
       "      <td>USA</td>\n",
       "      <td>Male</td>\n",
       "      <td>Horde</td>\n",
       "      <td>PvE</td>\n",
       "      <td>DPS;Healer</td>\n",
       "      <td>Shaman;Warlock;Warrior</td>\n",
       "      <td>Tauren</td>\n",
       "      <td>3</td>\n",
       "      <td>Both</td>\n",
       "      <td>Bi other</td>\n",
       "    </tr>\n",
       "    <tr>\n",
       "      <th>9</th>\n",
       "      <td>2017/07/25 7:16:40 AM AST</td>\n",
       "      <td>Female</td>\n",
       "      <td>Gay</td>\n",
       "      <td>31 to 42</td>\n",
       "      <td>USA</td>\n",
       "      <td>Female</td>\n",
       "      <td>Horde</td>\n",
       "      <td>PvE;PvP;RP</td>\n",
       "      <td>DPS;Tank</td>\n",
       "      <td>Monk;Warrior</td>\n",
       "      <td>Pandaren</td>\n",
       "      <td>1</td>\n",
       "      <td>Women</td>\n",
       "      <td>Gay woman</td>\n",
       "    </tr>\n",
       "  </tbody>\n",
       "</table>\n",
       "</div>"
      ],
      "text/plain": [
       "                    Timestamp  Gender Sexuality       Age             Country  \\\n",
       "0  2017/07/24 10:19:56 PM AST  Female    Bi/Pan  18 to 30                 USA   \n",
       "1  2017/07/24 10:25:34 PM AST   Other       Gay  18 to 30           Indonesia   \n",
       "2  2017/07/24 10:27:56 PM AST  Female    Bi/Pan  18 to 30                 USA   \n",
       "3  2017/07/24 10:46:20 PM AST    Male       Gay  18 to 30             England   \n",
       "4  2017/07/24 10:56:33 PM AST    Male  Straight  18 to 30                 usa   \n",
       "5  2017/07/24 11:45:42 PM AST  Female    Bi/Pan  18 to 30             England   \n",
       "6  2017/07/25 12:00:19 AM AST    Male  Straight  18 to 30  Russian Federation   \n",
       "7  2017/07/25 12:03:50 AM AST  Female    Bi/Pan  18 to 30                 NaN   \n",
       "8   2017/07/25 3:10:39 AM AST   Other    Bi/Pan  18 to 30                 USA   \n",
       "9   2017/07/25 7:16:40 AM AST  Female       Gay  31 to 42                 USA   \n",
       "\n",
       "           Main       Faction      Server        Role  \\\n",
       "0        Female      Alliance         PvE         DPS   \n",
       "1        Female         Horde          RP      Healer   \n",
       "2        Female         Horde         PvE         DPS   \n",
       "3        Female      Alliance         PvE      Healer   \n",
       "4        Female      Alliance         PvE      Healer   \n",
       "5  Both equally  Both equally         PvP      Healer   \n",
       "6        Female      Alliance         PvE  DPS;Healer   \n",
       "7        Female         Horde     PvE;PvP    DPS;Tank   \n",
       "8          Male         Horde         PvE  DPS;Healer   \n",
       "9        Female         Horde  PvE;PvP;RP    DPS;Tank   \n",
       "\n",
       "                               Class                     Race  Max Attracted  \\\n",
       "0                             Hunter                  Draenei    2      Both   \n",
       "1                              Druid                    Troll    2       NaN   \n",
       "2                              Druid                    Troll    2      Both   \n",
       "3                             Priest                Night Elf    2       Men   \n",
       "4                             Priest                Night Elf    4     Women   \n",
       "5                       Hunter;Rogue  Dwarf;Night Elf;Draenei    6      Both   \n",
       "6                             Shaman                  Draenei    3     Women   \n",
       "7  Death Knight;Demon Hunter;Paladin                Blood Elf    6      Both   \n",
       "8             Shaman;Warlock;Warrior                   Tauren    3      Both   \n",
       "9                       Monk;Warrior                 Pandaren    1     Women   \n",
       "\n",
       "           Type  \n",
       "0     Bi female  \n",
       "1     Gay other  \n",
       "2     Bi female  \n",
       "3       Gay man  \n",
       "4  Straight man  \n",
       "5     Bi female  \n",
       "6  Straight man  \n",
       "7     Bi female  \n",
       "8      Bi other  \n",
       "9     Gay woman  "
      ]
     },
     "execution_count": 5,
     "metadata": {},
     "output_type": "execute_result"
    }
   ],
   "source": [
    "data.head(10)"
   ]
  },
  {
   "cell_type": "markdown",
   "id": "a0e69891",
   "metadata": {},
   "source": [
    "### Очистка данных"
   ]
  },
  {
   "cell_type": "markdown",
   "id": "25801b94",
   "metadata": {},
   "source": [
    "Уберем лишний столбец \"Timestamp\":"
   ]
  },
  {
   "cell_type": "code",
   "execution_count": 6,
   "id": "1361f681",
   "metadata": {},
   "outputs": [],
   "source": [
    "data.drop(columns=['Timestamp'], inplace=True)"
   ]
  },
  {
   "cell_type": "markdown",
   "id": "c0fb2ea7",
   "metadata": {},
   "source": [
    "### Обработка пропущенных значений"
   ]
  },
  {
   "cell_type": "markdown",
   "id": "14558a81",
   "metadata": {},
   "source": [
    "Проверим наличие пропущенных значений:"
   ]
  },
  {
   "cell_type": "code",
   "execution_count": 7,
   "id": "aadd8bb8",
   "metadata": {},
   "outputs": [
    {
     "name": "stdout",
     "output_type": "stream",
     "text": [
      "Gender       0\n",
      "Sexuality    0\n",
      "Age          0\n",
      "Country      5\n",
      "Main         0\n",
      "Faction      0\n",
      "Server       1\n",
      "Role         0\n",
      "Class        0\n",
      "Race         0\n",
      "Max          0\n",
      "Attracted    6\n",
      "Type         0\n",
      "dtype: int64\n"
     ]
    }
   ],
   "source": [
    "missing_values = data.isnull().sum()\n",
    "print(missing_values)"
   ]
  },
  {
   "cell_type": "markdown",
   "id": "51aba8af",
   "metadata": {},
   "source": [
    "Пропусков достаточно мало - удалять не будем"
   ]
  },
  {
   "cell_type": "markdown",
   "id": "57e506d2",
   "metadata": {},
   "source": [
    "## Преобразование значений"
   ]
  },
  {
   "cell_type": "markdown",
   "id": "22138e34",
   "metadata": {},
   "source": [
    "Преобразуем категориальные переменные в числовые с помощью One-Hot Encoding:"
   ]
  },
  {
   "cell_type": "code",
   "execution_count": 8,
   "id": "e0bee230",
   "metadata": {},
   "outputs": [],
   "source": [
    "categorical_columns = ['Gender', 'Sexuality', 'Country', 'Main', 'Faction', 'Server', 'Role', 'Class', 'Race', 'Attracted', 'Type']\n",
    "data_encoded = pd.get_dummies(data, columns=categorical_columns)"
   ]
  },
  {
   "cell_type": "markdown",
   "id": "7eb1d24d",
   "metadata": {},
   "source": [
    "Преобразуем целевую переменную \"Max\" в числовой формат:"
   ]
  },
  {
   "cell_type": "code",
   "execution_count": 9,
   "id": "275c4feb",
   "metadata": {},
   "outputs": [],
   "source": [
    "data_encoded['Max'] = pd.to_numeric(data_encoded['Max'], errors='coerce')"
   ]
  },
  {
   "cell_type": "markdown",
   "id": "875508c0",
   "metadata": {},
   "source": [
    "## Исследовательский анализ данных (EDA)"
   ]
  },
  {
   "cell_type": "markdown",
   "id": "01877c78",
   "metadata": {},
   "source": [
    "### Создание сводных статистик для числовых переменных:"
   ]
  },
  {
   "cell_type": "code",
   "execution_count": 10,
   "id": "d26b6bba",
   "metadata": {},
   "outputs": [
    {
     "name": "stdout",
     "output_type": "stream",
     "text": [
      "             Age\n",
      "count        100\n",
      "unique         4\n",
      "top     18 to 30\n",
      "freq          66\n",
      "====================\n",
      "              Max\n",
      "count  100.000000\n",
      "mean     3.040000\n",
      "std      2.273786\n",
      "min      0.000000\n",
      "25%      1.000000\n",
      "50%      2.000000\n",
      "75%      4.000000\n",
      "max     12.000000\n"
     ]
    }
   ],
   "source": [
    "age_stats = data[['Age']].describe()\n",
    "max_stats = data[['Max']].describe()\n",
    "print(age_stats)\n",
    "print('====================')\n",
    "print(max_stats)"
   ]
  },
  {
   "cell_type": "markdown",
   "id": "bd693351",
   "metadata": {},
   "source": [
    "#### Вывод \n",
    "\n",
    "Из сводных статистик для числовых переменных можно сделать следующие выводы:\n",
    "\n",
    "Для переменной \"Age\" (возраст):\n",
    "- Средний возраст игроков составляет приблизительно 26 лет.\n",
    "- Большинство игроков (66%) находятся в возрастной группе от 18 до 30 лет.\n",
    "- Стандартное отклонение возраста достаточно низкое (близко к 4), что может указывать на небольшой разброс данных.\n",
    "\n",
    "Для переменной \"Max\" (количество максимальных уровней):\n",
    "- Среднее количество максимальных уровней у игроков составляет примерно 3.\n",
    "- Минимальное количество максимальных уровней равно 0, что может означать, что некоторые игроки ещё не достигли максимального уровня.\n",
    "- 25% игроков имеют 1 максимальный уровень, а 50% — не более 2 максимальных уровней.\n",
    "- 75% игроков имеют 4 максимальных уровня или менее, а максимальное количество уровней составляет 12.\n",
    "\n",
    "В целом, возраст игроков в основном сосредоточен в молодой возрастной группе, и большинство игроков имеют небольшое количество максимальных уровней."
   ]
  },
  {
   "cell_type": "markdown",
   "id": "4e213e65",
   "metadata": {},
   "source": [
    "### Анализ распределения значений категориальных переменных:\n",
    "\n",
    "Рассмотрим уникальные значения и их частоту для категориальных переменных, таких как \"Gender\" (пол), \"Sexuality\" (сексуальность), \"Country\" (страна), \"Role\" (роль), \"Race\" (раса) и \"Class\" (класс):"
   ]
  },
  {
   "cell_type": "code",
   "execution_count": 11,
   "id": "f515e91f",
   "metadata": {},
   "outputs": [
    {
     "name": "stdout",
     "output_type": "stream",
     "text": [
      "Female    58\n",
      "Male      28\n",
      "Other     14\n",
      "Name: Gender, dtype: int64\n",
      "Bi/Pan      51\n",
      "Gay         25\n",
      "Straight    24\n",
      "Name: Sexuality, dtype: int64\n",
      "USA                   56\n",
      "usa                    4\n",
      "Canada                 4\n",
      "England                3\n",
      "France                 3\n",
      "United Kingdom         2\n",
      "Finland                2\n",
      "Australia              1\n",
      "U.K                    1\n",
      "South Korea            1\n",
      "Sweden                 1\n",
      "Scotland               1\n",
      "Méxici                 1\n",
      "Philippines            1\n",
      "Usa                    1\n",
      "Italy                  1\n",
      "Argentina              1\n",
      "România                1\n",
      "Belgium                1\n",
      "Indonesia              1\n",
      "Norway                 1\n",
      "The Netherlands        1\n",
      "Chile                  1\n",
      "Ireland                1\n",
      "Hungary                1\n",
      "South Africa           1\n",
      "Russian Federation     1\n",
      "UK                     1\n",
      "Name: Country, dtype: int64\n",
      "DPS                44\n",
      "DPS;Healer         18\n",
      "DPS;Tank           12\n",
      "Healer              9\n",
      "DPS;Tank;Healer     8\n",
      "Tank;Healer         5\n",
      "Tank                4\n",
      "Name: Role, dtype: int64\n",
      "Blood Elf                                     11\n",
      "Night Elf                                      9\n",
      "Draenei                                        7\n",
      "Night Elf;Blood Elf                            6\n",
      "Human                                          6\n",
      "Night Elf;Draenei                              5\n",
      "Human;Night Elf                                4\n",
      "Worgen                                         3\n",
      "Undead;Blood Elf                               3\n",
      "Human;Night Elf;Blood Elf                      3\n",
      "Human;Pandaren                                 2\n",
      "Undead                                         2\n",
      "Draenei;Blood Elf                              2\n",
      "Troll                                          2\n",
      "Night Elf;Draenei;Blood Elf                    2\n",
      "Night Elf;Worgen;Blood Elf                     2\n",
      "Blood Elf;Goblin                               1\n",
      "Orc;Troll                                      1\n",
      "Orc;Tauren;Blood Elf                           1\n",
      "Orc                                            1\n",
      "Tauren;Blood Elf                               1\n",
      "Human;Draenei                                  1\n",
      "Worgen;Pandaren;Undead;Blood Elf               1\n",
      "Draenei;Worgen;Blood Elf                       1\n",
      "Troll;Blood Elf                                1\n",
      "Draenei;Worgen;Tauren;Blood Elf                1\n",
      "Human;Night Elf;Worgen;Blood Elf               1\n",
      "Night Elf;Draenei;Worgen;Blood Elf             1\n",
      "Night Elf;Draenei;Undead;Blood Elf             1\n",
      "Pandaren;Tauren                                1\n",
      "Human;Blood Elf                                1\n",
      "Goblin                                         1\n",
      "Dwarf;Night Elf;Draenei                        1\n",
      "Tauren                                         1\n",
      "Pandaren                                       1\n",
      "Gnome;Draenei                                  1\n",
      "Human;Night Elf;Draenei                        1\n",
      "Dwarf;Gnome;Pandaren;Orc;Blood Elf;Goblin      1\n",
      "Undead;Troll;Blood Elf                         1\n",
      "Night Elf;Tauren;Troll;Blood Elf               1\n",
      "Human;Night Elf;Draenei;Worgen;Blood Elf       1\n",
      "Night Elf;Worgen;Pandaren;Goblin               1\n",
      "Night Elf;Worgen;Pandaren;Undead;Blood Elf     1\n",
      "Dwarf;Pandaren                                 1\n",
      "Night Elf;Pandaren                             1\n",
      "Night Elf;Worgen                               1\n",
      "Night Elf;Draenei;Troll;Blood Elf              1\n",
      "Name: Race, dtype: int64\n",
      "Druid                        11\n",
      "Hunter                        3\n",
      "Priest                        3\n",
      "Mage                          3\n",
      "Death Knight                  3\n",
      "                             ..\n",
      "Mage;Shaman                   1\n",
      "Demon Hunter;Monk;Priest      1\n",
      "Demon Hunter;Hunter;Rogue     1\n",
      "Death Knight;Warrior          1\n",
      "Hunter;Monk                   1\n",
      "Name: Class, Length: 71, dtype: int64\n"
     ]
    }
   ],
   "source": [
    "categorical_columns = ['Gender', 'Sexuality', 'Country', 'Role', 'Race', 'Class']\n",
    "for col in categorical_columns:\n",
    "    print(data[col].value_counts())"
   ]
  },
  {
   "cell_type": "markdown",
   "id": "bba6a0d1",
   "metadata": {},
   "source": [
    "#### Вывод \n",
    "\n",
    "Из анализа распределения уникальных значений для категориальных переменных можно сделать следующие выводы:\n",
    "\n",
    "Для переменной \"Gender\" (пол):\n",
    "- В наборе данных преобладают женщины (Female) с числом 58, затем идут мужчины (Male) с числом 28 и другие (Other) с числом 14.\n",
    "\n",
    "Для переменной \"Sexuality\" (сексуальность):\n",
    "- Бисексуальность/пансексуальность (Bi/Pan) наиболее распространенный вариант сексуальности с числом 51, за которым следуют гомосексуальность (Gay) с числом 25 и гетеросексуальность (Straight) с числом 24.\n",
    "\n",
    "Для переменной \"Country\" (страна):\n",
    "- США (USA) наиболее распространенная страна с числом 56, но есть также несколько различных написаний США (usa, Usa) и других стран.\n",
    "\n",
    "Для переменной \"Role\" (роль):\n",
    "- Самая популярная роль — DPS (атакующий класс) с числом 44, затем идут сочетания ролей DPS и Healer (18), DPS и Tank (12) и другие комбинации.\n",
    "\n",
    "Для переменных \"Race\" (раса) и \"Class\" (класс):\n",
    "- Ответы на эти вопросы представляют собой множественный выбор из списка, что делает их анализ более сложным. Видно, что есть разнообразие по расам и классам, и некоторые комбинации встречаются более часто.\n",
    "\n",
    "Из этих выводов можно заключить, что в исследуемой группе игроков преобладают женщины, бисексуалы/пансексуалы, молодые игроки из США, предпочитающие роль DPS и выбирающие разнообразные комбинации рас и классов."
   ]
  },
  {
   "cell_type": "markdown",
   "id": "643a23ae",
   "metadata": {},
   "source": [
    "### Построение графиков для визуализации распределений и связей между переменными:\n",
    "\n",
    "Визуализировать распределение возраста с помощью гистограммы:"
   ]
  },
  {
   "cell_type": "code",
   "execution_count": 17,
   "id": "ad03f23c",
   "metadata": {
    "scrolled": false
   },
   "outputs": [
    {
     "data": {
      "image/png": "[encoded data removed]",
      "text/plain": [
       "<Figure size 640x480 with 1 Axes>"
      ]
     },
     "metadata": {},
     "output_type": "display_data"
    }
   ],
   "source": [
    "plt.hist(data['Age'], bins=20, edgecolor='k')\n",
    "plt.title('Распределение возраста игроков')\n",
    "plt.xlabel('Возраст')\n",
    "plt.ylabel('Частота')\n",
    "plt.show()"
   ]
  },
  {
   "cell_type": "markdown",
   "id": "9b5ed129",
   "metadata": {},
   "source": [
    "#### Вывод \n"
   ]
  },
  {
   "cell_type": "markdown",
   "id": "0fb03202",
   "metadata": {},
   "source": [
    "### Столбчатая диаграмма для анализа распределения по половому признаку:"
   ]
  },
  {
   "cell_type": "code",
   "execution_count": 13,
   "id": "e34ce40f",
   "metadata": {},
   "outputs": [
    {
     "data": {
      "image/png": "[encoded data removed]",
      "text/plain": [
       "<Figure size 800x600 with 1 Axes>"
      ]
     },
     "metadata": {},
     "output_type": "display_data"
    }
   ],
   "source": [
    "plt.figure(figsize=(8, 6))\n",
    "sns.countplot(data=data, x='Gender')\n",
    "plt.title('Распределение игроков по полу')\n",
    "plt.xlabel('Пол')\n",
    "plt.ylabel('Частота')\n",
    "plt.show()"
   ]
  },
  {
   "cell_type": "markdown",
   "id": "7910b88f",
   "metadata": {},
   "source": [
    "#### Вывод \n"
   ]
  },
  {
   "cell_type": "markdown",
   "id": "e05d9810",
   "metadata": {},
   "source": [
    "### Сводная  таблица и тепловая карта для анализа распределения ролей и рас по полу:"
   ]
  },
  {
   "cell_type": "code",
   "execution_count": 14,
   "id": "d4879e20",
   "metadata": {},
   "outputs": [
    {
     "data": {
      "image/png": "[encoded data removed]",
      "text/plain": [
       "<Figure size 640x480 with 2 Axes>"
      ]
     },
     "metadata": {},
     "output_type": "display_data"
    }
   ],
   "source": [
    "pivot_role_race = data.pivot_table(index='Role', columns='Race', values='Age', aggfunc='count')\n",
    "sns.heatmap(pivot_role_race, annot=True, cmap='YlGnBu')\n",
    "plt.title('Распределение ролей и рас по полу')\n",
    "plt.xlabel('Раса')\n",
    "plt.ylabel('Роль')\n",
    "plt.show()"
   ]
  },
  {
   "cell_type": "markdown",
   "id": "66508039",
   "metadata": {},
   "source": [
    "#### Вывод \n"
   ]
  },
  {
   "cell_type": "markdown",
   "id": "624cf497",
   "metadata": {},
   "source": [
    "### Распределение возраста в зависимости от пола:"
   ]
  },
  {
   "cell_type": "code",
   "execution_count": 15,
   "id": "9efe708b",
   "metadata": {},
   "outputs": [
    {
     "data": {
      "image/png": "[encoded data removed]",
      "text/plain": [
       "<Figure size 800x600 with 1 Axes>"
      ]
     },
     "metadata": {},
     "output_type": "display_data"
    }
   ],
   "source": [
    "plt.figure(figsize=(8, 6))\n",
    "sns.histplot(data=data, x='Age', hue='Gender', multiple='stack', bins=15, palette='Set1')\n",
    "plt.title('Распределение возраста по полу')\n",
    "plt.xlabel('Возраст')\n",
    "plt.ylabel('Количество игроков')\n",
    "plt.legend(title='Пол', labels=['Женщина', 'Мужчина', 'Другое'])\n",
    "plt.show()"
   ]
  },
  {
   "cell_type": "markdown",
   "id": "90fa0adb",
   "metadata": {},
   "source": [
    "#### Вывод \n"
   ]
  },
  {
   "cell_type": "markdown",
   "id": "a44e8890",
   "metadata": {},
   "source": [
    "### Взаимосвязь между сексуальностью и полом персонажа, которого игроки мейнят:"
   ]
  },
  {
   "cell_type": "code",
   "execution_count": 16,
   "id": "828a6f5c",
   "metadata": {},
   "outputs": [
    {
     "data": {
      "image/png": "[encoded data removed]",
      "text/plain": [
       "<Figure size 1000x600 with 1 Axes>"
      ]
     },
     "metadata": {},
     "output_type": "display_data"
    }
   ],
   "source": [
    "plt.figure(figsize=(10, 6))\n",
    "sns.countplot(data=data, x='Sexuality', hue='Main')\n",
    "plt.title('Влияние сексуальности на пол мейн-персонажа')\n",
    "plt.xlabel('Сексуальность')\n",
    "plt.ylabel('Частота')\n",
    "plt.xticks(rotation=45)\n",
    "plt.legend(title='Main')\n",
    "plt.show()"
   ]
  },
  {
   "cell_type": "markdown",
   "id": "5ac56eb9",
   "metadata": {},
   "source": [
    "#### Вывод \n"
   ]
  },
  {
   "cell_type": "code",
   "execution_count": null,
   "id": "ba7d42d5",
   "metadata": {},
   "outputs": [],
   "source": []
  },
  {
   "cell_type": "code",
   "execution_count": null,
   "id": "362d1d58",
   "metadata": {},
   "outputs": [],
   "source": []
  },
  {
   "cell_type": "code",
   "execution_count": null,
   "id": "5db6a577",
   "metadata": {},
   "outputs": [],
   "source": []
  },
  {
   "cell_type": "code",
   "execution_count": null,
   "id": "a488a3fc",
   "metadata": {},
   "outputs": [],
   "source": []
  },
  {
   "cell_type": "code",
   "execution_count": null,
   "id": "0c43a06f",
   "metadata": {},
   "outputs": [],
   "source": []
  },
  {
   "cell_type": "code",
   "execution_count": null,
   "id": "64bb16d9",
   "metadata": {},
   "outputs": [],
   "source": []
  },
  {
   "cell_type": "code",
   "execution_count": null,
   "id": "112efc3e",
   "metadata": {},
   "outputs": [],
   "source": []
  },
  {
   "cell_type": "code",
   "execution_count": null,
   "id": "ad4aee59",
   "metadata": {},
   "outputs": [],
   "source": []
  },
  {
   "cell_type": "code",
   "execution_count": null,
   "id": "a80d9cc9",
   "metadata": {},
   "outputs": [],
   "source": []
  },
  {
   "cell_type": "code",
   "execution_count": null,
   "id": "3cabed8d",
   "metadata": {},
   "outputs": [],
   "source": []
  },
  {
   "cell_type": "code",
   "execution_count": null,
   "id": "d43bcc30",
   "metadata": {},
   "outputs": [],
   "source": []
  },
  {
   "cell_type": "code",
   "execution_count": null,
   "id": "c0d1bd6a",
   "metadata": {},
   "outputs": [],
   "source": []
  },
  {
   "cell_type": "code",
   "execution_count": null,
   "id": "297a6e8d",
   "metadata": {},
   "outputs": [],
   "source": []
  },
  {
   "cell_type": "code",
   "execution_count": null,
   "id": "5a894373",
   "metadata": {},
   "outputs": [],
   "source": []
  },
  {
   "cell_type": "code",
   "execution_count": null,
   "id": "2848c0c9",
   "metadata": {},
   "outputs": [],
   "source": []
  },
  {
   "cell_type": "code",
   "execution_count": null,
   "id": "cd5e030c",
   "metadata": {},
   "outputs": [],
   "source": []
  },
  {
   "cell_type": "code",
   "execution_count": null,
   "id": "1c6c899d",
   "metadata": {},
   "outputs": [],
   "source": []
  },
  {
   "cell_type": "code",
   "execution_count": null,
   "id": "bbc80862",
   "metadata": {},
   "outputs": [],
   "source": []
  },
  {
   "cell_type": "code",
   "execution_count": null,
   "id": "f852eb40",
   "metadata": {},
   "outputs": [],
   "source": []
  },
  {
   "cell_type": "code",
   "execution_count": null,
   "id": "411257a7",
   "metadata": {},
   "outputs": [],
   "source": []
  },
  {
   "cell_type": "code",
   "execution_count": null,
   "id": "ff817c2c",
   "metadata": {},
   "outputs": [],
   "source": []
  },
  {
   "cell_type": "code",
   "execution_count": null,
   "id": "8add4113",
   "metadata": {},
   "outputs": [],
   "source": []
  },
  {
   "cell_type": "code",
   "execution_count": null,
   "id": "53cbee17",
   "metadata": {},
   "outputs": [],
   "source": []
  },
  {
   "cell_type": "code",
   "execution_count": null,
   "id": "3c32dc60",
   "metadata": {},
   "outputs": [],
   "source": []
  },
  {
   "cell_type": "code",
   "execution_count": null,
   "id": "6e20fff0",
   "metadata": {},
   "outputs": [],
   "source": []
  },
  {
   "cell_type": "code",
   "execution_count": null,
   "id": "2c0c8167",
   "metadata": {},
   "outputs": [],
   "source": []
  },
  {
   "cell_type": "code",
   "execution_count": null,
   "id": "096b97f3",
   "metadata": {},
   "outputs": [],
   "source": []
  },
  {
   "cell_type": "code",
   "execution_count": null,
   "id": "f527b0a7",
   "metadata": {},
   "outputs": [],
   "source": []
  },
  {
   "cell_type": "code",
   "execution_count": null,
   "id": "3177f067",
   "metadata": {},
   "outputs": [],
   "source": []
  },
  {
   "cell_type": "code",
   "execution_count": null,
   "id": "c3a526a5",
   "metadata": {},
   "outputs": [],
   "source": []
  },
  {
   "cell_type": "code",
   "execution_count": null,
   "id": "5e53c8ea",
   "metadata": {},
   "outputs": [],
   "source": []
  },
  {
   "cell_type": "code",
   "execution_count": null,
   "id": "2534d62f",
   "metadata": {},
   "outputs": [],
   "source": []
  },
  {
   "cell_type": "code",
   "execution_count": null,
   "id": "bb40937c",
   "metadata": {},
   "outputs": [],
   "source": []
  },
  {
   "cell_type": "code",
   "execution_count": null,
   "id": "1846fee5",
   "metadata": {},
   "outputs": [],
   "source": []
  },
  {
   "cell_type": "code",
   "execution_count": null,
   "id": "a19f4bba",
   "metadata": {},
   "outputs": [],
   "source": []
  },
  {
   "cell_type": "code",
   "execution_count": null,
   "id": "f7a8a630",
   "metadata": {},
   "outputs": [],
   "source": []
  },
  {
   "cell_type": "code",
   "execution_count": null,
   "id": "a0a91012",
   "metadata": {},
   "outputs": [],
   "source": []
  },
  {
   "cell_type": "code",
   "execution_count": null,
   "id": "e728c396",
   "metadata": {},
   "outputs": [],
   "source": []
  },
  {
   "cell_type": "code",
   "execution_count": null,
   "id": "d307bd05",
   "metadata": {},
   "outputs": [],
   "source": []
  },
  {
   "cell_type": "code",
   "execution_count": null,
   "id": "ea030796",
   "metadata": {},
   "outputs": [],
   "source": []
  },
  {
   "cell_type": "code",
   "execution_count": null,
   "id": "a3cac5c8",
   "metadata": {},
   "outputs": [],
   "source": []
  },
  {
   "cell_type": "code",
   "execution_count": null,
   "id": "91704f6d",
   "metadata": {},
   "outputs": [],
   "source": []
  },
  {
   "cell_type": "code",
   "execution_count": null,
   "id": "ad43eff3",
   "metadata": {},
   "outputs": [],
   "source": []
  },
  {
   "cell_type": "code",
   "execution_count": null,
   "id": "cb423aa3",
   "metadata": {},
   "outputs": [],
   "source": []
  },
  {
   "cell_type": "code",
   "execution_count": null,
   "id": "d8465e26",
   "metadata": {},
   "outputs": [],
   "source": []
  },
  {
   "cell_type": "code",
   "execution_count": null,
   "id": "66133ba2",
   "metadata": {},
   "outputs": [],
   "source": []
  },
  {
   "cell_type": "code",
   "execution_count": null,
   "id": "5c726ee3",
   "metadata": {},
   "outputs": [],
   "source": []
  },
  {
   "cell_type": "code",
   "execution_count": null,
   "id": "9bd9e0b2",
   "metadata": {},
   "outputs": [],
   "source": []
  },
  {
   "cell_type": "code",
   "execution_count": null,
   "id": "54528883",
   "metadata": {},
   "outputs": [],
   "source": []
  },
  {
   "cell_type": "code",
   "execution_count": null,
   "id": "d662daef",
   "metadata": {},
   "outputs": [],
   "source": []
  },
  {
   "cell_type": "code",
   "execution_count": null,
   "id": "5576f609",
   "metadata": {},
   "outputs": [],
   "source": []
  },
  {
   "cell_type": "code",
   "execution_count": null,
   "id": "a40a5895",
   "metadata": {},
   "outputs": [],
   "source": []
  },
  {
   "cell_type": "code",
   "execution_count": null,
   "id": "31525913",
   "metadata": {},
   "outputs": [],
   "source": []
  },
  {
   "cell_type": "code",
   "execution_count": null,
   "id": "e702c587",
   "metadata": {},
   "outputs": [],
   "source": []
  },
  {
   "cell_type": "code",
   "execution_count": null,
   "id": "ec031805",
   "metadata": {},
   "outputs": [],
   "source": []
  },
  {
   "cell_type": "code",
   "execution_count": null,
   "id": "18054d29",
   "metadata": {},
   "outputs": [],
   "source": []
  },
  {
   "cell_type": "code",
   "execution_count": null,
   "id": "4cd8490a",
   "metadata": {},
   "outputs": [],
   "source": []
  },
  {
   "cell_type": "code",
   "execution_count": null,
   "id": "bae5448c",
   "metadata": {},
   "outputs": [],
   "source": []
  },
  {
   "cell_type": "code",
   "execution_count": null,
   "id": "1615915a",
   "metadata": {},
   "outputs": [],
   "source": []
  },
  {
   "cell_type": "code",
   "execution_count": null,
   "id": "74f2d3ee",
   "metadata": {},
   "outputs": [],
   "source": []
  },
  {
   "cell_type": "code",
   "execution_count": null,
   "id": "9e694ae5",
   "metadata": {},
   "outputs": [],
   "source": []
  }
 ],
 "metadata": {
  "kernelspec": {
   "display_name": "Python 3 (ipykernel)",
   "language": "python",
   "name": "python3"
  },
  "language_info": {
   "codemirror_mode": {
    "name": "ipython",
    "version": 3
   },
   "file_extension": ".py",
   "mimetype": "text/x-python",
   "name": "python",
   "nbconvert_exporter": "python",
   "pygments_lexer": "ipython3",
   "version": "3.9.13"
  },
  "toc": {
   "base_numbering": 1,
   "nav_menu": {},
   "number_sections": true,
   "sideBar": true,
   "skip_h1_title": true,
   "title_cell": "Table of Contents",
   "title_sidebar": "Contents",
   "toc_cell": true,
   "toc_position": {
    "height": "calc(100% - 180px)",
    "left": "10px",
    "top": "150px",
    "width": "165px"
   },
   "toc_section_display": true,
   "toc_window_display": false
  }
 },
 "nbformat": 4,
 "nbformat_minor": 5
}
